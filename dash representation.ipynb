{
 "cells": [
  {
   "cell_type": "code",
   "execution_count": 1,
   "metadata": {},
   "outputs": [],
   "source": [
    "import dash\n",
    "import dash_core_components as dcc\n",
    "import dash_html_components as html\n",
    "from dash.dependencies import Input, Output# Load Data\n",
    "import numpy as np\n",
    "import pandas as pd\n",
    "import matplotlib.pyplot as plt\n",
    "%matplotlib inline\n",
    "import seaborn as sns\n",
    "import plotly.express as px\n",
    "import plotly.graph_objects as go\n",
    "from plotly.offline import init_notebook_mode,iplot"
   ]
  },
  {
   "cell_type": "code",
   "execution_count": 2,
   "metadata": {},
   "outputs": [],
   "source": [
    "plt.rcParams['figure.figsize'] = 12, 7\n",
    "plt.style.use(\"fivethirtyeight\")\n",
    "pd.options.plotting.backend = \"plotly\"\n",
    "\n",
    "\n",
    "data = pd.read_csv(\"datafile (1).csv\")\n",
    "crop_production_data = pd.read_csv(\"datafile (2).csv\")\n",
    "recommended_zone = pd.read_csv('datafile (3).csv')\n",
    "datafiles = pd.read_csv(\"datafile.csv\")\n",
    "produce_dataset = pd.read_csv(\"produce.csv\")"
   ]
  },
  {
   "cell_type": "code",
   "execution_count": 3,
   "metadata": {},
   "outputs": [],
   "source": [
    "\n",
    "\n",
    "#------------------GRAPH2--------------------------------\n",
    "cost_ofcultivation= data[[\"Crop\",\"Cost of Cultivation (`/Hectare) A2+FL\",\"Cost of Cultivation (`/Hectare) C2\"]].copy()\n",
    "cost_ofcultivation = cost_ofcultivation.groupby('Crop')[[\"Cost of Cultivation (`/Hectare) A2+FL\",\"Cost of Cultivation (`/Hectare) C2\"]].mean().reset_index()\n",
    "fig2 = cost_ofcultivation.plot(kind='bar',x='Crop',y=[\"Cost of Cultivation (`/Hectare) A2+FL\",\"Cost of Cultivation (`/Hectare) C2\"],barmode='group')\n",
    "\n",
    "#------------------GRAPH3--------------------------------\n",
    "state_wise_cost_of_production= data[[\"State\",\"Cost of Production (`/Quintal) C2\"]].copy()\n",
    "state_wise_cost_of_production= state_wise_cost_of_production.groupby('State')[[\"Cost of Production (`/Quintal) C2\"]].mean().reset_index()\n",
    "fig3=px.bar(state_wise_cost_of_production, x='State', y='Cost of Production (`/Quintal) C2',color='Cost of Production (`/Quintal) C2',\n",
    "             labels={'pop':'state_wise_cost_of_production'}, height=500 )\n",
    "#------------------GRAPH4--------------------------------\n",
    "state_wise_yield= data[[\"State\",\"Yield (Quintal/ Hectare) \"]].copy()\n",
    "state_wise_yield= state_wise_yield.groupby('State')[[\"Yield (Quintal/ Hectare) \"]].mean().reset_index()\n",
    "fig4= px.bar(state_wise_yield, x='State', y='Yield (Quintal/ Hectare) ',color='Yield (Quintal/ Hectare) ',\n",
    "             labels={'pop':'State-wise Yield (Quintal/ Hectare) '}, height=500)\n",
    "\n",
    "#------------------GRAPH5--------------------------------\n",
    "col = data.loc[: , \"Cost of Cultivation (`/Hectare) A2+FL\":\"Cost of Cultivation (`/Hectare) A2+FL\"]\n",
    "data['Cost of Cultivation mean'] = col.mean(axis=1)\n",
    "cost_of_cultivation= data[[\"State\",\"Cost of Cultivation mean\"]].copy()\n",
    "cost_of_cultivation=cost_of_cultivation.groupby(\"State\")[[\"Cost of Cultivation mean\"]].mean().reset_index()\n",
    "fig5= px.bar(cost_of_cultivation, x='State', y='Cost of Cultivation mean',color='Cost of Cultivation mean',\n",
    "             labels={'pop':'cost_of_cultivation'}, height=500)\n",
    "\n",
    "#------------------GRAPH6--------------------------------\n",
    "production_of_crops = crop_production_data[[\"Crop             \",\"Production 2006-07\",\"Production 2007-08\",\"Production 2008-09\",\"Production 2009-10\",\"Production 2010-11\"]].copy().head(8)\n",
    "fig6 = px.bar(production_of_crops, x=\"Crop             \", y=[\"Production 2006-07\",\"Production 2007-08\",\"Production 2008-09\",\"Production 2009-10\",\"Production 2010-11\"], title=\"production_of_crops\")\n",
    "\n",
    "\n",
    "\n",
    "#------------------GRAPH7--------------------------------\n",
    "mean_production = []\n",
    "for i in range(crop_production_data.shape[0]):\n",
    "    mean_production.append((crop_production_data.iloc[i,1]+crop_production_data.iloc[i,2]+crop_production_data.iloc[i,3]+crop_production_data.iloc[i,4]+crop_production_data.iloc[i,5])/5)\n",
    "    \n",
    "crop_production_data['mean_production'] = pd.Series(mean_production)\n",
    "crop_production_data_mean=crop_production_data.groupby(\"Crop             \")[[\"mean_production\"]].mean().reset_index()\n",
    "fig7 = px.bar(crop_production_data_mean, x='Crop             ', y='mean_production',color='mean_production',\n",
    "             labels={'pop':'crop_production_data_mean'}, height=500)\n",
    "\n",
    "#------------------GRAPH8--------------------------------\n",
    "area_of_crops_yearly = crop_production_data[[\"Crop             \",\"Area 2006-07\",\"Area 2007-08\",\"Area 2008-09\",\"Area 2009-10\",\"Area 2010-11\"]].copy().head(8)\n",
    "fig8 = area_of_crops_yearly.drop(0).plot(kind='bar',x='Crop             ', y=[\"Area 2006-07\",\"Area 2007-08\",\"Area 2008-09\",\"Area 2009-10\",\"Area 2010-11\"])\n",
    "\n",
    "#------------------GRAPH9--------------------------------\n",
    "fig9=recommended_zone.Crop.value_counts().reset_index().head(7).plot(kind='bar', x='index', y='Crop',color='Crop')\n",
    "\n",
    "#------------------GRAPH10------------------------------\n",
    "fig10=    px.pie(\n",
    "              data_frame=data,\n",
    "              names='Crop',\n",
    "              values='Cost of Production (`/Quintal) C2',\n",
    "          )\n",
    "        \n",
    "\n",
    "#------------------GRAPH11------------------------------\n",
    "\n",
    "fig11=    px.pie(\n",
    "            data_frame=data,\n",
    "            names='Crop',\n",
    "            values='Yield (Quintal/ Hectare) ',\n",
    "        )\n",
    "\n",
    "\n",
    "highest_lowest_yiled=data[['Crop','Yield (Quintal/ Hectare) ']].copy()\n",
    "px.bar(highest_lowest_yiled,x='Crop',y='Yield (Quintal/ Hectare) ',color='Crop')\n",
    "personal_expindeture=data['Cost of Cultivation (`/Hectare) C2']-data['Cost of Cultivation (`/Hectare) A2+FL']\n",
    "data['personal_expindeture'] = pd.Series(personal_expindeture)\n",
    "\n",
    "exp_vs_yiled=data[['Crop','personal_expindeture']].copy()\n",
    "#------------------GRAPH12------------------------------\n",
    "fig12=px.bar(exp_vs_yiled,x='Crop',y='personal_expindeture',color='personal_expindeture')"
   ]
  },
  {
   "cell_type": "code",
   "execution_count": null,
   "metadata": {},
   "outputs": [
    {
     "name": "stdout",
     "output_type": "stream",
     "text": [
      "Dash is running on http://127.0.0.1:8050/\n",
      "\n",
      " * Serving Flask app \"__main__\" (lazy loading)\n",
      " * Environment: production\n",
      "   WARNING: This is a development server. Do not use it in a production deployment.\n",
      "   Use a production WSGI server instead.\n",
      " * Debug mode: on\n"
     ]
    }
   ],
   "source": [
    "app = dash.Dash()\n",
    "graph_2=fig2.update_layout(showlegend=False, title='Cost of Cultivation A2+FL vs C2')\n",
    "graph_3=fig3\n",
    "graph_4=fig4\n",
    "graph_5=fig5\n",
    "graph_6=fig6\n",
    "graph_7=fig7\n",
    "graph_8=fig8.update_layout(title='Area of Crops from 2006 to 2011')\n",
    "graph_9=fig9.update_layout(title='Crops with most varieties')\n",
    "graph_10=fig10\n",
    "graph_11=fig11.update_layout(title='Number of States in which most crops are suitable to plant')\n",
    "graph_12=fig12\n",
    "\n",
    "app.layout =html.Div(children=[\n",
    "    html.Div(),\n",
    "    html.H1(\"Production rate of Crops per year\"),\n",
    "    dcc.Graph(figure=graph_2),\n",
    "    dcc.Graph(figure=graph_3),\n",
    "    dcc.Graph(figure=graph_4),\n",
    "    dcc.Graph(figure=graph_5),\n",
    "    dcc.Graph(figure=graph_6),\n",
    "    dcc.Graph(figure=graph_7),\n",
    "    dcc.Graph(figure=graph_8),\n",
    "    dcc.Graph(figure=graph_9),\n",
    "    dcc.Graph(figure=graph_10),\n",
    "    dcc.Graph(figure=graph_11),\n",
    "    dcc.Graph(figure=graph_12),\n",
    "    ]\n",
    "    )\n",
    "    \n",
    "    \n",
    "    \n",
    "    \n",
    "    \n",
    "    \n",
    "if __name__ == '__main__':\n",
    "    app.run_server(debug=True,use_reloader = False)"
   ]
  },
  {
   "cell_type": "code",
   "execution_count": null,
   "metadata": {},
   "outputs": [],
   "source": []
  },
  {
   "cell_type": "code",
   "execution_count": null,
   "metadata": {},
   "outputs": [],
   "source": []
  },
  {
   "cell_type": "code",
   "execution_count": null,
   "metadata": {},
   "outputs": [],
   "source": []
  },
  {
   "cell_type": "code",
   "execution_count": null,
   "metadata": {},
   "outputs": [],
   "source": []
  },
  {
   "cell_type": "code",
   "execution_count": null,
   "metadata": {},
   "outputs": [],
   "source": []
  },
  {
   "cell_type": "code",
   "execution_count": null,
   "metadata": {},
   "outputs": [],
   "source": []
  },
  {
   "cell_type": "code",
   "execution_count": null,
   "metadata": {},
   "outputs": [],
   "source": []
  },
  {
   "cell_type": "code",
   "execution_count": null,
   "metadata": {},
   "outputs": [],
   "source": []
  },
  {
   "cell_type": "code",
   "execution_count": null,
   "metadata": {},
   "outputs": [],
   "source": []
  },
  {
   "cell_type": "code",
   "execution_count": null,
   "metadata": {},
   "outputs": [],
   "source": []
  },
  {
   "cell_type": "code",
   "execution_count": null,
   "metadata": {},
   "outputs": [],
   "source": []
  }
 ],
 "metadata": {
  "kernelspec": {
   "display_name": "Python 3",
   "language": "python",
   "name": "python3"
  },
  "language_info": {
   "codemirror_mode": {
    "name": "ipython",
    "version": 3
   },
   "file_extension": ".py",
   "mimetype": "text/x-python",
   "name": "python",
   "nbconvert_exporter": "python",
   "pygments_lexer": "ipython3",
   "version": "3.8.5"
  }
 },
 "nbformat": 4,
 "nbformat_minor": 4
}
